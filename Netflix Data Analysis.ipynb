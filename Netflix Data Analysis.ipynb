{
 "cells": [
  {
   "cell_type": "markdown",
   "id": "46144834",
   "metadata": {},
   "source": [
    "# Netflix Data Analysis"
   ]
  },
  {
   "cell_type": "code",
   "execution_count": 1,
   "id": "52d700b7",
   "metadata": {},
   "outputs": [],
   "source": [
    "import pandas as pd\n",
    "import matplotlib.pyplot as plt\n",
    "import seaborn as sns"
   ]
  },
  {
   "cell_type": "code",
   "execution_count": 2,
   "id": "be453d26",
   "metadata": {},
   "outputs": [
    {
     "data": {
      "text/html": [
       "<div>\n",
       "<style scoped>\n",
       "    .dataframe tbody tr th:only-of-type {\n",
       "        vertical-align: middle;\n",
       "    }\n",
       "\n",
       "    .dataframe tbody tr th {\n",
       "        vertical-align: top;\n",
       "    }\n",
       "\n",
       "    .dataframe thead th {\n",
       "        text-align: right;\n",
       "    }\n",
       "</style>\n",
       "<table border=\"1\" class=\"dataframe\">\n",
       "  <thead>\n",
       "    <tr style=\"text-align: right;\">\n",
       "      <th></th>\n",
       "      <th>Show_Id</th>\n",
       "      <th>Category</th>\n",
       "      <th>Title</th>\n",
       "      <th>Director</th>\n",
       "      <th>Cast</th>\n",
       "      <th>Country</th>\n",
       "      <th>Release_Date</th>\n",
       "      <th>Rating</th>\n",
       "      <th>Duration</th>\n",
       "      <th>Type</th>\n",
       "      <th>Description</th>\n",
       "    </tr>\n",
       "  </thead>\n",
       "  <tbody>\n",
       "    <tr>\n",
       "      <th>0</th>\n",
       "      <td>s1</td>\n",
       "      <td>TV Show</td>\n",
       "      <td>3%</td>\n",
       "      <td>NaN</td>\n",
       "      <td>João Miguel, Bianca Comparato, Michel Gomes, R...</td>\n",
       "      <td>Brazil</td>\n",
       "      <td>August 14, 2020</td>\n",
       "      <td>TV-MA</td>\n",
       "      <td>4 Seasons</td>\n",
       "      <td>International TV Shows, TV Dramas, TV Sci-Fi &amp;...</td>\n",
       "      <td>In a future where the elite inhabit an island ...</td>\n",
       "    </tr>\n",
       "    <tr>\n",
       "      <th>1</th>\n",
       "      <td>s2</td>\n",
       "      <td>Movie</td>\n",
       "      <td>07:19</td>\n",
       "      <td>Jorge Michel Grau</td>\n",
       "      <td>Demián Bichir, Héctor Bonilla, Oscar Serrano, ...</td>\n",
       "      <td>Mexico</td>\n",
       "      <td>December 23, 2016</td>\n",
       "      <td>TV-MA</td>\n",
       "      <td>93 min</td>\n",
       "      <td>Dramas, International Movies</td>\n",
       "      <td>After a devastating earthquake hits Mexico Cit...</td>\n",
       "    </tr>\n",
       "    <tr>\n",
       "      <th>2</th>\n",
       "      <td>s3</td>\n",
       "      <td>Movie</td>\n",
       "      <td>23:59</td>\n",
       "      <td>Gilbert Chan</td>\n",
       "      <td>Tedd Chan, Stella Chung, Henley Hii, Lawrence ...</td>\n",
       "      <td>Singapore</td>\n",
       "      <td>December 20, 2018</td>\n",
       "      <td>R</td>\n",
       "      <td>78 min</td>\n",
       "      <td>Horror Movies, International Movies</td>\n",
       "      <td>When an army recruit is found dead, his fellow...</td>\n",
       "    </tr>\n",
       "    <tr>\n",
       "      <th>3</th>\n",
       "      <td>s4</td>\n",
       "      <td>Movie</td>\n",
       "      <td>9</td>\n",
       "      <td>Shane Acker</td>\n",
       "      <td>Elijah Wood, John C. Reilly, Jennifer Connelly...</td>\n",
       "      <td>United States</td>\n",
       "      <td>November 16, 2017</td>\n",
       "      <td>PG-13</td>\n",
       "      <td>80 min</td>\n",
       "      <td>Action &amp; Adventure, Independent Movies, Sci-Fi...</td>\n",
       "      <td>In a postapocalyptic world, rag-doll robots hi...</td>\n",
       "    </tr>\n",
       "    <tr>\n",
       "      <th>4</th>\n",
       "      <td>s5</td>\n",
       "      <td>Movie</td>\n",
       "      <td>21</td>\n",
       "      <td>Robert Luketic</td>\n",
       "      <td>Jim Sturgess, Kevin Spacey, Kate Bosworth, Aar...</td>\n",
       "      <td>United States</td>\n",
       "      <td>January 1, 2020</td>\n",
       "      <td>PG-13</td>\n",
       "      <td>123 min</td>\n",
       "      <td>Dramas</td>\n",
       "      <td>A brilliant group of students become card-coun...</td>\n",
       "    </tr>\n",
       "  </tbody>\n",
       "</table>\n",
       "</div>"
      ],
      "text/plain": [
       "  Show_Id Category  Title           Director  \\\n",
       "0      s1  TV Show     3%                NaN   \n",
       "1      s2    Movie  07:19  Jorge Michel Grau   \n",
       "2      s3    Movie  23:59       Gilbert Chan   \n",
       "3      s4    Movie      9        Shane Acker   \n",
       "4      s5    Movie     21     Robert Luketic   \n",
       "\n",
       "                                                Cast        Country  \\\n",
       "0  João Miguel, Bianca Comparato, Michel Gomes, R...         Brazil   \n",
       "1  Demián Bichir, Héctor Bonilla, Oscar Serrano, ...         Mexico   \n",
       "2  Tedd Chan, Stella Chung, Henley Hii, Lawrence ...      Singapore   \n",
       "3  Elijah Wood, John C. Reilly, Jennifer Connelly...  United States   \n",
       "4  Jim Sturgess, Kevin Spacey, Kate Bosworth, Aar...  United States   \n",
       "\n",
       "        Release_Date Rating   Duration  \\\n",
       "0    August 14, 2020  TV-MA  4 Seasons   \n",
       "1  December 23, 2016  TV-MA     93 min   \n",
       "2  December 20, 2018      R     78 min   \n",
       "3  November 16, 2017  PG-13     80 min   \n",
       "4    January 1, 2020  PG-13    123 min   \n",
       "\n",
       "                                                Type  \\\n",
       "0  International TV Shows, TV Dramas, TV Sci-Fi &...   \n",
       "1                       Dramas, International Movies   \n",
       "2                Horror Movies, International Movies   \n",
       "3  Action & Adventure, Independent Movies, Sci-Fi...   \n",
       "4                                             Dramas   \n",
       "\n",
       "                                         Description  \n",
       "0  In a future where the elite inhabit an island ...  \n",
       "1  After a devastating earthquake hits Mexico Cit...  \n",
       "2  When an army recruit is found dead, his fellow...  \n",
       "3  In a postapocalyptic world, rag-doll robots hi...  \n",
       "4  A brilliant group of students become card-coun...  "
      ]
     },
     "execution_count": 2,
     "metadata": {},
     "output_type": "execute_result"
    }
   ],
   "source": [
    "df=pd.read_csv(r\"C:\\Users\\nikhi\\OneDrive\\Documents\\Nikhil Masters files\\University of Windsor\\Interview prep\\Pragra\\Data Analytics Bootcamp\\Netflix Data Analysis\\file.csv\")\n",
    "df.head()               "
   ]
  },
  {
   "cell_type": "markdown",
   "id": "534ab8a9",
   "metadata": {},
   "source": [
    "# Exploring our data"
   ]
  },
  {
   "cell_type": "code",
   "execution_count": 3,
   "id": "325db288",
   "metadata": {},
   "outputs": [
    {
     "data": {
      "text/plain": [
       "(7789, 11)"
      ]
     },
     "execution_count": 3,
     "metadata": {},
     "output_type": "execute_result"
    }
   ],
   "source": [
    "df.shape"
   ]
  },
  {
   "cell_type": "code",
   "execution_count": 4,
   "id": "aac7c508",
   "metadata": {},
   "outputs": [
    {
     "name": "stdout",
     "output_type": "stream",
     "text": [
      "<class 'pandas.core.frame.DataFrame'>\n",
      "RangeIndex: 7789 entries, 0 to 7788\n",
      "Data columns (total 11 columns):\n",
      " #   Column        Non-Null Count  Dtype \n",
      "---  ------        --------------  ----- \n",
      " 0   Show_Id       7789 non-null   object\n",
      " 1   Category      7789 non-null   object\n",
      " 2   Title         7789 non-null   object\n",
      " 3   Director      5401 non-null   object\n",
      " 4   Cast          7071 non-null   object\n",
      " 5   Country       7282 non-null   object\n",
      " 6   Release_Date  7779 non-null   object\n",
      " 7   Rating        7782 non-null   object\n",
      " 8   Duration      7789 non-null   object\n",
      " 9   Type          7789 non-null   object\n",
      " 10  Description   7789 non-null   object\n",
      "dtypes: object(11)\n",
      "memory usage: 669.5+ KB\n"
     ]
    }
   ],
   "source": [
    "df.info()"
   ]
  },
  {
   "cell_type": "markdown",
   "id": "c681a0af",
   "metadata": {},
   "source": [
    "We see Director, Cast, Country, Release_Date, and Rating having null values"
   ]
  },
  {
   "cell_type": "code",
   "execution_count": 5,
   "id": "0b9403d1",
   "metadata": {},
   "outputs": [
    {
     "data": {
      "text/plain": [
       "Show_Id         object\n",
       "Category        object\n",
       "Title           object\n",
       "Director        object\n",
       "Cast            object\n",
       "Country         object\n",
       "Release_Date    object\n",
       "Rating          object\n",
       "Duration        object\n",
       "Type            object\n",
       "Description     object\n",
       "dtype: object"
      ]
     },
     "execution_count": 5,
     "metadata": {},
     "output_type": "execute_result"
    }
   ],
   "source": [
    "df.dtypes"
   ]
  },
  {
   "cell_type": "markdown",
   "id": "235b5ac6",
   "metadata": {},
   "source": [
    "# Checking out for duplicates"
   ]
  },
  {
   "cell_type": "code",
   "execution_count": 6,
   "id": "349e8740",
   "metadata": {},
   "outputs": [
    {
     "data": {
      "text/plain": [
       "0       False\n",
       "1       False\n",
       "2       False\n",
       "3       False\n",
       "4       False\n",
       "        ...  \n",
       "7784    False\n",
       "7785    False\n",
       "7786    False\n",
       "7787    False\n",
       "7788    False\n",
       "Length: 7789, dtype: bool"
      ]
     },
     "execution_count": 6,
     "metadata": {},
     "output_type": "execute_result"
    }
   ],
   "source": [
    "df.duplicated()"
   ]
  },
  {
   "cell_type": "code",
   "execution_count": 7,
   "id": "c1267bc8",
   "metadata": {},
   "outputs": [
    {
     "data": {
      "text/html": [
       "<div>\n",
       "<style scoped>\n",
       "    .dataframe tbody tr th:only-of-type {\n",
       "        vertical-align: middle;\n",
       "    }\n",
       "\n",
       "    .dataframe tbody tr th {\n",
       "        vertical-align: top;\n",
       "    }\n",
       "\n",
       "    .dataframe thead th {\n",
       "        text-align: right;\n",
       "    }\n",
       "</style>\n",
       "<table border=\"1\" class=\"dataframe\">\n",
       "  <thead>\n",
       "    <tr style=\"text-align: right;\">\n",
       "      <th></th>\n",
       "      <th>Show_Id</th>\n",
       "      <th>Category</th>\n",
       "      <th>Title</th>\n",
       "      <th>Director</th>\n",
       "      <th>Cast</th>\n",
       "      <th>Country</th>\n",
       "      <th>Release_Date</th>\n",
       "      <th>Rating</th>\n",
       "      <th>Duration</th>\n",
       "      <th>Type</th>\n",
       "      <th>Description</th>\n",
       "    </tr>\n",
       "  </thead>\n",
       "  <tbody>\n",
       "    <tr>\n",
       "      <th>6300</th>\n",
       "      <td>s684</td>\n",
       "      <td>Movie</td>\n",
       "      <td>Backfire</td>\n",
       "      <td>Dave Patten</td>\n",
       "      <td>Black Deniro, Byron \"Squally\" Vinson, Dominic ...</td>\n",
       "      <td>United States</td>\n",
       "      <td>April 5, 2019</td>\n",
       "      <td>TV-MA</td>\n",
       "      <td>97 min</td>\n",
       "      <td>Dramas, Independent Movies, Thrillers</td>\n",
       "      <td>When two would-be robbers accidentally kill a ...</td>\n",
       "    </tr>\n",
       "    <tr>\n",
       "      <th>6622</th>\n",
       "      <td>s6621</td>\n",
       "      <td>Movie</td>\n",
       "      <td>The Lost Okoroshi</td>\n",
       "      <td>Abba T. Makama</td>\n",
       "      <td>Seun Ajayi, Judith Audu, Tope Tedela, Ifu Enna...</td>\n",
       "      <td>Nigeria</td>\n",
       "      <td>September 4, 2020</td>\n",
       "      <td>TV-MA</td>\n",
       "      <td>94 min</td>\n",
       "      <td>Comedies, Dramas, Independent Movies</td>\n",
       "      <td>A disillusioned security guard transforms into...</td>\n",
       "    </tr>\n",
       "  </tbody>\n",
       "</table>\n",
       "</div>"
      ],
      "text/plain": [
       "     Show_Id Category              Title        Director  \\\n",
       "6300    s684    Movie           Backfire     Dave Patten   \n",
       "6622   s6621    Movie  The Lost Okoroshi  Abba T. Makama   \n",
       "\n",
       "                                                   Cast        Country  \\\n",
       "6300  Black Deniro, Byron \"Squally\" Vinson, Dominic ...  United States   \n",
       "6622  Seun Ajayi, Judith Audu, Tope Tedela, Ifu Enna...        Nigeria   \n",
       "\n",
       "           Release_Date Rating Duration  \\\n",
       "6300      April 5, 2019  TV-MA   97 min   \n",
       "6622  September 4, 2020  TV-MA   94 min   \n",
       "\n",
       "                                       Type  \\\n",
       "6300  Dramas, Independent Movies, Thrillers   \n",
       "6622   Comedies, Dramas, Independent Movies   \n",
       "\n",
       "                                            Description  \n",
       "6300  When two would-be robbers accidentally kill a ...  \n",
       "6622  A disillusioned security guard transforms into...  "
      ]
     },
     "execution_count": 7,
     "metadata": {},
     "output_type": "execute_result"
    }
   ],
   "source": [
    "df.loc[df.duplicated()]"
   ]
  },
  {
   "cell_type": "markdown",
   "id": "f6a19202",
   "metadata": {},
   "source": [
    "We have 2 records which have duplicate values. Dropping such records"
   ]
  },
  {
   "cell_type": "code",
   "execution_count": 8,
   "id": "8ad5bdd1",
   "metadata": {},
   "outputs": [],
   "source": [
    "df.drop(index=[6300,6622],inplace=True)"
   ]
  },
  {
   "cell_type": "code",
   "execution_count": 9,
   "id": "58f6e7e7",
   "metadata": {},
   "outputs": [
    {
     "data": {
      "text/plain": [
       "(7787, 11)"
      ]
     },
     "execution_count": 9,
     "metadata": {},
     "output_type": "execute_result"
    }
   ],
   "source": [
    "df.shape"
   ]
  },
  {
   "cell_type": "markdown",
   "id": "ff48e353",
   "metadata": {},
   "source": [
    "We see 2 records have been dropped"
   ]
  },
  {
   "cell_type": "markdown",
   "id": "b33d0307",
   "metadata": {},
   "source": [
    "# Null Values"
   ]
  },
  {
   "cell_type": "code",
   "execution_count": 10,
   "id": "00e4c77d",
   "metadata": {},
   "outputs": [
    {
     "data": {
      "text/plain": [
       "Show_Id         False\n",
       "Category        False\n",
       "Title           False\n",
       "Director         True\n",
       "Cast             True\n",
       "Country          True\n",
       "Release_Date     True\n",
       "Rating           True\n",
       "Duration        False\n",
       "Type            False\n",
       "Description     False\n",
       "dtype: bool"
      ]
     },
     "execution_count": 10,
     "metadata": {},
     "output_type": "execute_result"
    }
   ],
   "source": [
    "df.isnull().any()"
   ]
  },
  {
   "cell_type": "code",
   "execution_count": 11,
   "id": "40b8810c",
   "metadata": {},
   "outputs": [
    {
     "data": {
      "text/plain": [
       "Show_Id            0\n",
       "Category           0\n",
       "Title              0\n",
       "Director        2388\n",
       "Cast             718\n",
       "Country          507\n",
       "Release_Date      10\n",
       "Rating             7\n",
       "Duration           0\n",
       "Type               0\n",
       "Description        0\n",
       "dtype: int64"
      ]
     },
     "execution_count": 11,
     "metadata": {},
     "output_type": "execute_result"
    }
   ],
   "source": [
    "df.isnull().sum()"
   ]
  },
  {
   "cell_type": "code",
   "execution_count": 12,
   "id": "0a82858c",
   "metadata": {},
   "outputs": [
    {
     "data": {
      "text/html": [
       "<div>\n",
       "<style scoped>\n",
       "    .dataframe tbody tr th:only-of-type {\n",
       "        vertical-align: middle;\n",
       "    }\n",
       "\n",
       "    .dataframe tbody tr th {\n",
       "        vertical-align: top;\n",
       "    }\n",
       "\n",
       "    .dataframe thead th {\n",
       "        text-align: right;\n",
       "    }\n",
       "</style>\n",
       "<table border=\"1\" class=\"dataframe\">\n",
       "  <thead>\n",
       "    <tr style=\"text-align: right;\">\n",
       "      <th></th>\n",
       "      <th>Show_Id</th>\n",
       "      <th>Category</th>\n",
       "      <th>Title</th>\n",
       "      <th>Director</th>\n",
       "      <th>Cast</th>\n",
       "      <th>Country</th>\n",
       "      <th>Release_Date</th>\n",
       "      <th>Rating</th>\n",
       "      <th>Duration</th>\n",
       "      <th>Type</th>\n",
       "      <th>Description</th>\n",
       "    </tr>\n",
       "  </thead>\n",
       "  <tbody>\n",
       "    <tr>\n",
       "      <th>0</th>\n",
       "      <td>False</td>\n",
       "      <td>False</td>\n",
       "      <td>False</td>\n",
       "      <td>True</td>\n",
       "      <td>False</td>\n",
       "      <td>False</td>\n",
       "      <td>False</td>\n",
       "      <td>False</td>\n",
       "      <td>False</td>\n",
       "      <td>False</td>\n",
       "      <td>False</td>\n",
       "    </tr>\n",
       "    <tr>\n",
       "      <th>1</th>\n",
       "      <td>False</td>\n",
       "      <td>False</td>\n",
       "      <td>False</td>\n",
       "      <td>False</td>\n",
       "      <td>False</td>\n",
       "      <td>False</td>\n",
       "      <td>False</td>\n",
       "      <td>False</td>\n",
       "      <td>False</td>\n",
       "      <td>False</td>\n",
       "      <td>False</td>\n",
       "    </tr>\n",
       "    <tr>\n",
       "      <th>2</th>\n",
       "      <td>False</td>\n",
       "      <td>False</td>\n",
       "      <td>False</td>\n",
       "      <td>False</td>\n",
       "      <td>False</td>\n",
       "      <td>False</td>\n",
       "      <td>False</td>\n",
       "      <td>False</td>\n",
       "      <td>False</td>\n",
       "      <td>False</td>\n",
       "      <td>False</td>\n",
       "    </tr>\n",
       "    <tr>\n",
       "      <th>3</th>\n",
       "      <td>False</td>\n",
       "      <td>False</td>\n",
       "      <td>False</td>\n",
       "      <td>False</td>\n",
       "      <td>False</td>\n",
       "      <td>False</td>\n",
       "      <td>False</td>\n",
       "      <td>False</td>\n",
       "      <td>False</td>\n",
       "      <td>False</td>\n",
       "      <td>False</td>\n",
       "    </tr>\n",
       "    <tr>\n",
       "      <th>4</th>\n",
       "      <td>False</td>\n",
       "      <td>False</td>\n",
       "      <td>False</td>\n",
       "      <td>False</td>\n",
       "      <td>False</td>\n",
       "      <td>False</td>\n",
       "      <td>False</td>\n",
       "      <td>False</td>\n",
       "      <td>False</td>\n",
       "      <td>False</td>\n",
       "      <td>False</td>\n",
       "    </tr>\n",
       "    <tr>\n",
       "      <th>...</th>\n",
       "      <td>...</td>\n",
       "      <td>...</td>\n",
       "      <td>...</td>\n",
       "      <td>...</td>\n",
       "      <td>...</td>\n",
       "      <td>...</td>\n",
       "      <td>...</td>\n",
       "      <td>...</td>\n",
       "      <td>...</td>\n",
       "      <td>...</td>\n",
       "      <td>...</td>\n",
       "    </tr>\n",
       "    <tr>\n",
       "      <th>7784</th>\n",
       "      <td>False</td>\n",
       "      <td>False</td>\n",
       "      <td>False</td>\n",
       "      <td>False</td>\n",
       "      <td>False</td>\n",
       "      <td>False</td>\n",
       "      <td>False</td>\n",
       "      <td>False</td>\n",
       "      <td>False</td>\n",
       "      <td>False</td>\n",
       "      <td>False</td>\n",
       "    </tr>\n",
       "    <tr>\n",
       "      <th>7785</th>\n",
       "      <td>False</td>\n",
       "      <td>False</td>\n",
       "      <td>False</td>\n",
       "      <td>False</td>\n",
       "      <td>False</td>\n",
       "      <td>False</td>\n",
       "      <td>False</td>\n",
       "      <td>False</td>\n",
       "      <td>False</td>\n",
       "      <td>False</td>\n",
       "      <td>False</td>\n",
       "    </tr>\n",
       "    <tr>\n",
       "      <th>7786</th>\n",
       "      <td>False</td>\n",
       "      <td>False</td>\n",
       "      <td>False</td>\n",
       "      <td>True</td>\n",
       "      <td>False</td>\n",
       "      <td>True</td>\n",
       "      <td>False</td>\n",
       "      <td>False</td>\n",
       "      <td>False</td>\n",
       "      <td>False</td>\n",
       "      <td>False</td>\n",
       "    </tr>\n",
       "    <tr>\n",
       "      <th>7787</th>\n",
       "      <td>False</td>\n",
       "      <td>False</td>\n",
       "      <td>False</td>\n",
       "      <td>True</td>\n",
       "      <td>False</td>\n",
       "      <td>False</td>\n",
       "      <td>False</td>\n",
       "      <td>False</td>\n",
       "      <td>False</td>\n",
       "      <td>False</td>\n",
       "      <td>False</td>\n",
       "    </tr>\n",
       "    <tr>\n",
       "      <th>7788</th>\n",
       "      <td>False</td>\n",
       "      <td>False</td>\n",
       "      <td>False</td>\n",
       "      <td>False</td>\n",
       "      <td>True</td>\n",
       "      <td>False</td>\n",
       "      <td>False</td>\n",
       "      <td>False</td>\n",
       "      <td>False</td>\n",
       "      <td>False</td>\n",
       "      <td>False</td>\n",
       "    </tr>\n",
       "  </tbody>\n",
       "</table>\n",
       "<p>7787 rows × 11 columns</p>\n",
       "</div>"
      ],
      "text/plain": [
       "      Show_Id  Category  Title  Director   Cast  Country  Release_Date  \\\n",
       "0       False     False  False      True  False    False         False   \n",
       "1       False     False  False     False  False    False         False   \n",
       "2       False     False  False     False  False    False         False   \n",
       "3       False     False  False     False  False    False         False   \n",
       "4       False     False  False     False  False    False         False   \n",
       "...       ...       ...    ...       ...    ...      ...           ...   \n",
       "7784    False     False  False     False  False    False         False   \n",
       "7785    False     False  False     False  False    False         False   \n",
       "7786    False     False  False      True  False     True         False   \n",
       "7787    False     False  False      True  False    False         False   \n",
       "7788    False     False  False     False   True    False         False   \n",
       "\n",
       "      Rating  Duration   Type  Description  \n",
       "0      False     False  False        False  \n",
       "1      False     False  False        False  \n",
       "2      False     False  False        False  \n",
       "3      False     False  False        False  \n",
       "4      False     False  False        False  \n",
       "...      ...       ...    ...          ...  \n",
       "7784   False     False  False        False  \n",
       "7785   False     False  False        False  \n",
       "7786   False     False  False        False  \n",
       "7787   False     False  False        False  \n",
       "7788   False     False  False        False  \n",
       "\n",
       "[7787 rows x 11 columns]"
      ]
     },
     "execution_count": 12,
     "metadata": {},
     "output_type": "execute_result"
    }
   ],
   "source": [
    "df.isnull()"
   ]
  },
  {
   "cell_type": "code",
   "execution_count": 13,
   "id": "32ed56c7",
   "metadata": {},
   "outputs": [
    {
     "data": {
      "text/plain": [
       "0        True\n",
       "1       False\n",
       "2       False\n",
       "3       False\n",
       "4       False\n",
       "        ...  \n",
       "7784    False\n",
       "7785    False\n",
       "7786     True\n",
       "7787     True\n",
       "7788     True\n",
       "Length: 7787, dtype: bool"
      ]
     },
     "execution_count": 13,
     "metadata": {},
     "output_type": "execute_result"
    }
   ],
   "source": [
    "df.isnull().any(axis=1)"
   ]
  },
  {
   "cell_type": "code",
   "execution_count": 14,
   "id": "7950006e",
   "metadata": {},
   "outputs": [
    {
     "data": {
      "text/html": [
       "<div>\n",
       "<style scoped>\n",
       "    .dataframe tbody tr th:only-of-type {\n",
       "        vertical-align: middle;\n",
       "    }\n",
       "\n",
       "    .dataframe tbody tr th {\n",
       "        vertical-align: top;\n",
       "    }\n",
       "\n",
       "    .dataframe thead th {\n",
       "        text-align: right;\n",
       "    }\n",
       "</style>\n",
       "<table border=\"1\" class=\"dataframe\">\n",
       "  <thead>\n",
       "    <tr style=\"text-align: right;\">\n",
       "      <th></th>\n",
       "      <th>Show_Id</th>\n",
       "      <th>Category</th>\n",
       "      <th>Title</th>\n",
       "      <th>Director</th>\n",
       "      <th>Cast</th>\n",
       "      <th>Country</th>\n",
       "      <th>Release_Date</th>\n",
       "      <th>Rating</th>\n",
       "      <th>Duration</th>\n",
       "      <th>Type</th>\n",
       "      <th>Description</th>\n",
       "    </tr>\n",
       "  </thead>\n",
       "  <tbody>\n",
       "    <tr>\n",
       "      <th>0</th>\n",
       "      <td>s1</td>\n",
       "      <td>TV Show</td>\n",
       "      <td>3%</td>\n",
       "      <td>NaN</td>\n",
       "      <td>João Miguel, Bianca Comparato, Michel Gomes, R...</td>\n",
       "      <td>Brazil</td>\n",
       "      <td>August 14, 2020</td>\n",
       "      <td>TV-MA</td>\n",
       "      <td>4 Seasons</td>\n",
       "      <td>International TV Shows, TV Dramas, TV Sci-Fi &amp;...</td>\n",
       "      <td>In a future where the elite inhabit an island ...</td>\n",
       "    </tr>\n",
       "    <tr>\n",
       "      <th>11</th>\n",
       "      <td>s12</td>\n",
       "      <td>TV Show</td>\n",
       "      <td>1983</td>\n",
       "      <td>NaN</td>\n",
       "      <td>Robert Więckiewicz, Maciej Musiał, Michalina O...</td>\n",
       "      <td>Poland, United States</td>\n",
       "      <td>November 30, 2018</td>\n",
       "      <td>TV-MA</td>\n",
       "      <td>1 Season</td>\n",
       "      <td>Crime TV Shows, International TV Shows, TV Dramas</td>\n",
       "      <td>In this dark alt-history thriller, a naïve law...</td>\n",
       "    </tr>\n",
       "    <tr>\n",
       "      <th>12</th>\n",
       "      <td>s13</td>\n",
       "      <td>TV Show</td>\n",
       "      <td>1994</td>\n",
       "      <td>Diego Enrique Osorno</td>\n",
       "      <td>NaN</td>\n",
       "      <td>Mexico</td>\n",
       "      <td>May 17, 2019</td>\n",
       "      <td>TV-MA</td>\n",
       "      <td>1 Season</td>\n",
       "      <td>Crime TV Shows, Docuseries, International TV S...</td>\n",
       "      <td>Archival video and new interviews examine Mexi...</td>\n",
       "    </tr>\n",
       "    <tr>\n",
       "      <th>16</th>\n",
       "      <td>s17</td>\n",
       "      <td>TV Show</td>\n",
       "      <td>Feb-09</td>\n",
       "      <td>NaN</td>\n",
       "      <td>Shahd El Yaseen, Shaila Sabt, Hala, Hanadi Al-...</td>\n",
       "      <td>NaN</td>\n",
       "      <td>March 20, 2019</td>\n",
       "      <td>TV-14</td>\n",
       "      <td>1 Season</td>\n",
       "      <td>International TV Shows, TV Dramas</td>\n",
       "      <td>As a psychology professor faces Alzheimer's, h...</td>\n",
       "    </tr>\n",
       "    <tr>\n",
       "      <th>19</th>\n",
       "      <td>s20</td>\n",
       "      <td>Movie</td>\n",
       "      <td>'89</td>\n",
       "      <td>NaN</td>\n",
       "      <td>Lee Dixon, Ian Wright, Paul Merson</td>\n",
       "      <td>United Kingdom</td>\n",
       "      <td>May 16, 2018</td>\n",
       "      <td>TV-PG</td>\n",
       "      <td>87 min</td>\n",
       "      <td>Sports Movies</td>\n",
       "      <td>Mixing old footage with interviews, this is th...</td>\n",
       "    </tr>\n",
       "    <tr>\n",
       "      <th>...</th>\n",
       "      <td>...</td>\n",
       "      <td>...</td>\n",
       "      <td>...</td>\n",
       "      <td>...</td>\n",
       "      <td>...</td>\n",
       "      <td>...</td>\n",
       "      <td>...</td>\n",
       "      <td>...</td>\n",
       "      <td>...</td>\n",
       "      <td>...</td>\n",
       "      <td>...</td>\n",
       "    </tr>\n",
       "    <tr>\n",
       "      <th>7779</th>\n",
       "      <td>s7778</td>\n",
       "      <td>TV Show</td>\n",
       "      <td>Zombie Dumb</td>\n",
       "      <td>NaN</td>\n",
       "      <td>NaN</td>\n",
       "      <td>NaN</td>\n",
       "      <td>July 1, 2019</td>\n",
       "      <td>TV-Y7</td>\n",
       "      <td>2 Seasons</td>\n",
       "      <td>Kids' TV, Korean TV Shows, TV Comedies</td>\n",
       "      <td>While living alone in a spooky town, a young g...</td>\n",
       "    </tr>\n",
       "    <tr>\n",
       "      <th>7781</th>\n",
       "      <td>s7780</td>\n",
       "      <td>TV Show</td>\n",
       "      <td>Zona Rosa</td>\n",
       "      <td>NaN</td>\n",
       "      <td>Manu NNa, Ana Julia Yeyé, Ray Contreras, Pablo...</td>\n",
       "      <td>Mexico</td>\n",
       "      <td>November 26, 2019</td>\n",
       "      <td>TV-MA</td>\n",
       "      <td>1 Season</td>\n",
       "      <td>International TV Shows, Spanish-Language TV Sh...</td>\n",
       "      <td>An assortment of talent takes the stage for a ...</td>\n",
       "    </tr>\n",
       "    <tr>\n",
       "      <th>7786</th>\n",
       "      <td>s7785</td>\n",
       "      <td>Movie</td>\n",
       "      <td>Zulu Man in Japan</td>\n",
       "      <td>NaN</td>\n",
       "      <td>Nasty C</td>\n",
       "      <td>NaN</td>\n",
       "      <td>September 25, 2020</td>\n",
       "      <td>TV-MA</td>\n",
       "      <td>44 min</td>\n",
       "      <td>Documentaries, International Movies, Music &amp; M...</td>\n",
       "      <td>In this documentary, South African rapper Nast...</td>\n",
       "    </tr>\n",
       "    <tr>\n",
       "      <th>7787</th>\n",
       "      <td>s7786</td>\n",
       "      <td>TV Show</td>\n",
       "      <td>Zumbo's Just Desserts</td>\n",
       "      <td>NaN</td>\n",
       "      <td>Adriano Zumbo, Rachel Khoo</td>\n",
       "      <td>Australia</td>\n",
       "      <td>October 31, 2020</td>\n",
       "      <td>TV-PG</td>\n",
       "      <td>1 Season</td>\n",
       "      <td>International TV Shows, Reality TV</td>\n",
       "      <td>Dessert wizard Adriano Zumbo looks for the nex...</td>\n",
       "    </tr>\n",
       "    <tr>\n",
       "      <th>7788</th>\n",
       "      <td>s7787</td>\n",
       "      <td>Movie</td>\n",
       "      <td>ZZ TOP: THAT LITTLE OL' BAND FROM TEXAS</td>\n",
       "      <td>Sam Dunn</td>\n",
       "      <td>NaN</td>\n",
       "      <td>United Kingdom, Canada, United States</td>\n",
       "      <td>March 1, 2020</td>\n",
       "      <td>TV-MA</td>\n",
       "      <td>90 min</td>\n",
       "      <td>Documentaries, Music &amp; Musicals</td>\n",
       "      <td>This documentary delves into the mystique behi...</td>\n",
       "    </tr>\n",
       "  </tbody>\n",
       "</table>\n",
       "<p>2978 rows × 11 columns</p>\n",
       "</div>"
      ],
      "text/plain": [
       "     Show_Id Category                                    Title  \\\n",
       "0         s1  TV Show                                       3%   \n",
       "11       s12  TV Show                                     1983   \n",
       "12       s13  TV Show                                     1994   \n",
       "16       s17  TV Show                                   Feb-09   \n",
       "19       s20    Movie                                      '89   \n",
       "...      ...      ...                                      ...   \n",
       "7779   s7778  TV Show                              Zombie Dumb   \n",
       "7781   s7780  TV Show                                Zona Rosa   \n",
       "7786   s7785    Movie                        Zulu Man in Japan   \n",
       "7787   s7786  TV Show                    Zumbo's Just Desserts   \n",
       "7788   s7787    Movie  ZZ TOP: THAT LITTLE OL' BAND FROM TEXAS   \n",
       "\n",
       "                  Director                                               Cast  \\\n",
       "0                      NaN  João Miguel, Bianca Comparato, Michel Gomes, R...   \n",
       "11                     NaN  Robert Więckiewicz, Maciej Musiał, Michalina O...   \n",
       "12    Diego Enrique Osorno                                                NaN   \n",
       "16                     NaN  Shahd El Yaseen, Shaila Sabt, Hala, Hanadi Al-...   \n",
       "19                     NaN                 Lee Dixon, Ian Wright, Paul Merson   \n",
       "...                    ...                                                ...   \n",
       "7779                   NaN                                                NaN   \n",
       "7781                   NaN  Manu NNa, Ana Julia Yeyé, Ray Contreras, Pablo...   \n",
       "7786                   NaN                                            Nasty C   \n",
       "7787                   NaN                         Adriano Zumbo, Rachel Khoo   \n",
       "7788              Sam Dunn                                                NaN   \n",
       "\n",
       "                                    Country        Release_Date Rating  \\\n",
       "0                                    Brazil     August 14, 2020  TV-MA   \n",
       "11                    Poland, United States   November 30, 2018  TV-MA   \n",
       "12                                   Mexico        May 17, 2019  TV-MA   \n",
       "16                                      NaN      March 20, 2019  TV-14   \n",
       "19                           United Kingdom        May 16, 2018  TV-PG   \n",
       "...                                     ...                 ...    ...   \n",
       "7779                                    NaN        July 1, 2019  TV-Y7   \n",
       "7781                                 Mexico   November 26, 2019  TV-MA   \n",
       "7786                                    NaN  September 25, 2020  TV-MA   \n",
       "7787                              Australia    October 31, 2020  TV-PG   \n",
       "7788  United Kingdom, Canada, United States       March 1, 2020  TV-MA   \n",
       "\n",
       "       Duration                                               Type  \\\n",
       "0     4 Seasons  International TV Shows, TV Dramas, TV Sci-Fi &...   \n",
       "11     1 Season  Crime TV Shows, International TV Shows, TV Dramas   \n",
       "12     1 Season  Crime TV Shows, Docuseries, International TV S...   \n",
       "16     1 Season                  International TV Shows, TV Dramas   \n",
       "19       87 min                                      Sports Movies   \n",
       "...         ...                                                ...   \n",
       "7779  2 Seasons             Kids' TV, Korean TV Shows, TV Comedies   \n",
       "7781   1 Season  International TV Shows, Spanish-Language TV Sh...   \n",
       "7786     44 min  Documentaries, International Movies, Music & M...   \n",
       "7787   1 Season                 International TV Shows, Reality TV   \n",
       "7788     90 min                    Documentaries, Music & Musicals   \n",
       "\n",
       "                                            Description  \n",
       "0     In a future where the elite inhabit an island ...  \n",
       "11    In this dark alt-history thriller, a naïve law...  \n",
       "12    Archival video and new interviews examine Mexi...  \n",
       "16    As a psychology professor faces Alzheimer's, h...  \n",
       "19    Mixing old footage with interviews, this is th...  \n",
       "...                                                 ...  \n",
       "7779  While living alone in a spooky town, a young g...  \n",
       "7781  An assortment of talent takes the stage for a ...  \n",
       "7786  In this documentary, South African rapper Nast...  \n",
       "7787  Dessert wizard Adriano Zumbo looks for the nex...  \n",
       "7788  This documentary delves into the mystique behi...  \n",
       "\n",
       "[2978 rows x 11 columns]"
      ]
     },
     "execution_count": 14,
     "metadata": {},
     "output_type": "execute_result"
    }
   ],
   "source": [
    "df[df.isnull().any(axis=1)]"
   ]
  },
  {
   "cell_type": "code",
   "execution_count": 15,
   "id": "d4340d28",
   "metadata": {},
   "outputs": [
    {
     "data": {
      "image/png": "[encoded data removed]",
      "text/plain": [
       "<Figure size 1152x360 with 1 Axes>"
      ]
     },
     "metadata": {
      "needs_background": "light"
     },
     "output_type": "display_data"
    }
   ],
   "source": [
    "missing = pd.DataFrame((df.isnull().sum())*100/df.shape[0]).reset_index()\n",
    "missing.rename(columns={0:\"Percentage\"},inplace=True)\n",
    "missing.rename(columns={'index':'Column Name'},inplace=True)\n",
    "plt.figure(figsize=(16,5))\n",
    "ax = sns.pointplot(x='Column Name',y='Percentage',data=missing)\n",
    "plt.xticks(rotation =90,fontsize =7)\n",
    "plt.title(\"Percentage of Missing values\")\n",
    "plt.ylabel(\"PERCENTAGE\")\n",
    "plt.show()"
   ]
  },
  {
   "cell_type": "markdown",
   "id": "c4445b25",
   "metadata": {},
   "source": [
    "From the above graph, we see 'Director' and 'Cast' columns in particular have a significant percentage of missing values. Therefore, it doesn't make sense to deal with these many missing values. Therefore, we go ahead and drop missing values below."
   ]
  },
  {
   "cell_type": "code",
   "execution_count": 16,
   "id": "2b982d6e",
   "metadata": {},
   "outputs": [
    {
     "data": {
      "text/html": [
       "<div>\n",
       "<style scoped>\n",
       "    .dataframe tbody tr th:only-of-type {\n",
       "        vertical-align: middle;\n",
       "    }\n",
       "\n",
       "    .dataframe tbody tr th {\n",
       "        vertical-align: top;\n",
       "    }\n",
       "\n",
       "    .dataframe thead th {\n",
       "        text-align: right;\n",
       "    }\n",
       "</style>\n",
       "<table border=\"1\" class=\"dataframe\">\n",
       "  <thead>\n",
       "    <tr style=\"text-align: right;\">\n",
       "      <th></th>\n",
       "      <th>index</th>\n",
       "      <th>Show_Id</th>\n",
       "      <th>Category</th>\n",
       "      <th>Title</th>\n",
       "      <th>Director</th>\n",
       "      <th>Cast</th>\n",
       "      <th>Country</th>\n",
       "      <th>Release_Date</th>\n",
       "      <th>Rating</th>\n",
       "      <th>Duration</th>\n",
       "      <th>Type</th>\n",
       "      <th>Description</th>\n",
       "    </tr>\n",
       "  </thead>\n",
       "  <tbody>\n",
       "    <tr>\n",
       "      <th>0</th>\n",
       "      <td>1</td>\n",
       "      <td>s2</td>\n",
       "      <td>Movie</td>\n",
       "      <td>07:19</td>\n",
       "      <td>Jorge Michel Grau</td>\n",
       "      <td>Demián Bichir, Héctor Bonilla, Oscar Serrano, ...</td>\n",
       "      <td>Mexico</td>\n",
       "      <td>December 23, 2016</td>\n",
       "      <td>TV-MA</td>\n",
       "      <td>93 min</td>\n",
       "      <td>Dramas, International Movies</td>\n",
       "      <td>After a devastating earthquake hits Mexico Cit...</td>\n",
       "    </tr>\n",
       "    <tr>\n",
       "      <th>1</th>\n",
       "      <td>2</td>\n",
       "      <td>s3</td>\n",
       "      <td>Movie</td>\n",
       "      <td>23:59</td>\n",
       "      <td>Gilbert Chan</td>\n",
       "      <td>Tedd Chan, Stella Chung, Henley Hii, Lawrence ...</td>\n",
       "      <td>Singapore</td>\n",
       "      <td>December 20, 2018</td>\n",
       "      <td>R</td>\n",
       "      <td>78 min</td>\n",
       "      <td>Horror Movies, International Movies</td>\n",
       "      <td>When an army recruit is found dead, his fellow...</td>\n",
       "    </tr>\n",
       "    <tr>\n",
       "      <th>2</th>\n",
       "      <td>3</td>\n",
       "      <td>s4</td>\n",
       "      <td>Movie</td>\n",
       "      <td>9</td>\n",
       "      <td>Shane Acker</td>\n",
       "      <td>Elijah Wood, John C. Reilly, Jennifer Connelly...</td>\n",
       "      <td>United States</td>\n",
       "      <td>November 16, 2017</td>\n",
       "      <td>PG-13</td>\n",
       "      <td>80 min</td>\n",
       "      <td>Action &amp; Adventure, Independent Movies, Sci-Fi...</td>\n",
       "      <td>In a postapocalyptic world, rag-doll robots hi...</td>\n",
       "    </tr>\n",
       "    <tr>\n",
       "      <th>3</th>\n",
       "      <td>4</td>\n",
       "      <td>s5</td>\n",
       "      <td>Movie</td>\n",
       "      <td>21</td>\n",
       "      <td>Robert Luketic</td>\n",
       "      <td>Jim Sturgess, Kevin Spacey, Kate Bosworth, Aar...</td>\n",
       "      <td>United States</td>\n",
       "      <td>January 1, 2020</td>\n",
       "      <td>PG-13</td>\n",
       "      <td>123 min</td>\n",
       "      <td>Dramas</td>\n",
       "      <td>A brilliant group of students become card-coun...</td>\n",
       "    </tr>\n",
       "    <tr>\n",
       "      <th>4</th>\n",
       "      <td>5</td>\n",
       "      <td>s6</td>\n",
       "      <td>TV Show</td>\n",
       "      <td>46</td>\n",
       "      <td>Serdar Akar</td>\n",
       "      <td>Erdal Beşikçioğlu, Yasemin Allen, Melis Birkan...</td>\n",
       "      <td>Turkey</td>\n",
       "      <td>July 1, 2017</td>\n",
       "      <td>TV-MA</td>\n",
       "      <td>1 Season</td>\n",
       "      <td>International TV Shows, TV Dramas, TV Mysteries</td>\n",
       "      <td>A genetics professor experiments with a treatm...</td>\n",
       "    </tr>\n",
       "    <tr>\n",
       "      <th>...</th>\n",
       "      <td>...</td>\n",
       "      <td>...</td>\n",
       "      <td>...</td>\n",
       "      <td>...</td>\n",
       "      <td>...</td>\n",
       "      <td>...</td>\n",
       "      <td>...</td>\n",
       "      <td>...</td>\n",
       "      <td>...</td>\n",
       "      <td>...</td>\n",
       "      <td>...</td>\n",
       "      <td>...</td>\n",
       "    </tr>\n",
       "    <tr>\n",
       "      <th>4804</th>\n",
       "      <td>7780</td>\n",
       "      <td>s7779</td>\n",
       "      <td>Movie</td>\n",
       "      <td>Zombieland</td>\n",
       "      <td>Ruben Fleischer</td>\n",
       "      <td>Jesse Eisenberg, Woody Harrelson, Emma Stone, ...</td>\n",
       "      <td>United States</td>\n",
       "      <td>November 1, 2019</td>\n",
       "      <td>R</td>\n",
       "      <td>88 min</td>\n",
       "      <td>Comedies, Horror Movies</td>\n",
       "      <td>Looking to survive in a world taken over by zo...</td>\n",
       "    </tr>\n",
       "    <tr>\n",
       "      <th>4805</th>\n",
       "      <td>7782</td>\n",
       "      <td>s7781</td>\n",
       "      <td>Movie</td>\n",
       "      <td>Zoo</td>\n",
       "      <td>Shlok Sharma</td>\n",
       "      <td>Shashank Arora, Shweta Tripathi, Rahul Kumar, ...</td>\n",
       "      <td>India</td>\n",
       "      <td>July 1, 2018</td>\n",
       "      <td>TV-MA</td>\n",
       "      <td>94 min</td>\n",
       "      <td>Dramas, Independent Movies, International Movies</td>\n",
       "      <td>A drug dealer starts having doubts about his t...</td>\n",
       "    </tr>\n",
       "    <tr>\n",
       "      <th>4806</th>\n",
       "      <td>7783</td>\n",
       "      <td>s7782</td>\n",
       "      <td>Movie</td>\n",
       "      <td>Zoom</td>\n",
       "      <td>Peter Hewitt</td>\n",
       "      <td>Tim Allen, Courteney Cox, Chevy Chase, Kate Ma...</td>\n",
       "      <td>United States</td>\n",
       "      <td>January 11, 2020</td>\n",
       "      <td>PG</td>\n",
       "      <td>88 min</td>\n",
       "      <td>Children &amp; Family Movies, Comedies</td>\n",
       "      <td>Dragged from civilian life, a former superhero...</td>\n",
       "    </tr>\n",
       "    <tr>\n",
       "      <th>4807</th>\n",
       "      <td>7784</td>\n",
       "      <td>s7783</td>\n",
       "      <td>Movie</td>\n",
       "      <td>Zozo</td>\n",
       "      <td>Josef Fares</td>\n",
       "      <td>Imad Creidi, Antoinette Turk, Elias Gergi, Car...</td>\n",
       "      <td>Sweden, Czech Republic, United Kingdom, Denmar...</td>\n",
       "      <td>October 19, 2020</td>\n",
       "      <td>TV-MA</td>\n",
       "      <td>99 min</td>\n",
       "      <td>Dramas, International Movies</td>\n",
       "      <td>When Lebanon's Civil War deprives Zozo of his ...</td>\n",
       "    </tr>\n",
       "    <tr>\n",
       "      <th>4808</th>\n",
       "      <td>7785</td>\n",
       "      <td>s7784</td>\n",
       "      <td>Movie</td>\n",
       "      <td>Zubaan</td>\n",
       "      <td>Mozez Singh</td>\n",
       "      <td>Vicky Kaushal, Sarah-Jane Dias, Raaghav Chanan...</td>\n",
       "      <td>India</td>\n",
       "      <td>March 2, 2019</td>\n",
       "      <td>TV-14</td>\n",
       "      <td>111 min</td>\n",
       "      <td>Dramas, International Movies, Music &amp; Musicals</td>\n",
       "      <td>A scrappy but poor boy worms his way into a ty...</td>\n",
       "    </tr>\n",
       "  </tbody>\n",
       "</table>\n",
       "<p>4809 rows × 12 columns</p>\n",
       "</div>"
      ],
      "text/plain": [
       "      index Show_Id Category       Title           Director  \\\n",
       "0         1      s2    Movie       07:19  Jorge Michel Grau   \n",
       "1         2      s3    Movie       23:59       Gilbert Chan   \n",
       "2         3      s4    Movie           9        Shane Acker   \n",
       "3         4      s5    Movie          21     Robert Luketic   \n",
       "4         5      s6  TV Show          46        Serdar Akar   \n",
       "...     ...     ...      ...         ...                ...   \n",
       "4804   7780   s7779    Movie  Zombieland    Ruben Fleischer   \n",
       "4805   7782   s7781    Movie         Zoo       Shlok Sharma   \n",
       "4806   7783   s7782    Movie        Zoom       Peter Hewitt   \n",
       "4807   7784   s7783    Movie        Zozo        Josef Fares   \n",
       "4808   7785   s7784    Movie      Zubaan        Mozez Singh   \n",
       "\n",
       "                                                   Cast  \\\n",
       "0     Demián Bichir, Héctor Bonilla, Oscar Serrano, ...   \n",
       "1     Tedd Chan, Stella Chung, Henley Hii, Lawrence ...   \n",
       "2     Elijah Wood, John C. Reilly, Jennifer Connelly...   \n",
       "3     Jim Sturgess, Kevin Spacey, Kate Bosworth, Aar...   \n",
       "4     Erdal Beşikçioğlu, Yasemin Allen, Melis Birkan...   \n",
       "...                                                 ...   \n",
       "4804  Jesse Eisenberg, Woody Harrelson, Emma Stone, ...   \n",
       "4805  Shashank Arora, Shweta Tripathi, Rahul Kumar, ...   \n",
       "4806  Tim Allen, Courteney Cox, Chevy Chase, Kate Ma...   \n",
       "4807  Imad Creidi, Antoinette Turk, Elias Gergi, Car...   \n",
       "4808  Vicky Kaushal, Sarah-Jane Dias, Raaghav Chanan...   \n",
       "\n",
       "                                                Country       Release_Date  \\\n",
       "0                                                Mexico  December 23, 2016   \n",
       "1                                             Singapore  December 20, 2018   \n",
       "2                                         United States  November 16, 2017   \n",
       "3                                         United States    January 1, 2020   \n",
       "4                                                Turkey       July 1, 2017   \n",
       "...                                                 ...                ...   \n",
       "4804                                      United States   November 1, 2019   \n",
       "4805                                              India       July 1, 2018   \n",
       "4806                                      United States   January 11, 2020   \n",
       "4807  Sweden, Czech Republic, United Kingdom, Denmar...   October 19, 2020   \n",
       "4808                                              India      March 2, 2019   \n",
       "\n",
       "     Rating  Duration                                               Type  \\\n",
       "0     TV-MA    93 min                       Dramas, International Movies   \n",
       "1         R    78 min                Horror Movies, International Movies   \n",
       "2     PG-13    80 min  Action & Adventure, Independent Movies, Sci-Fi...   \n",
       "3     PG-13   123 min                                             Dramas   \n",
       "4     TV-MA  1 Season    International TV Shows, TV Dramas, TV Mysteries   \n",
       "...     ...       ...                                                ...   \n",
       "4804      R    88 min                            Comedies, Horror Movies   \n",
       "4805  TV-MA    94 min   Dramas, Independent Movies, International Movies   \n",
       "4806     PG    88 min                 Children & Family Movies, Comedies   \n",
       "4807  TV-MA    99 min                       Dramas, International Movies   \n",
       "4808  TV-14   111 min     Dramas, International Movies, Music & Musicals   \n",
       "\n",
       "                                            Description  \n",
       "0     After a devastating earthquake hits Mexico Cit...  \n",
       "1     When an army recruit is found dead, his fellow...  \n",
       "2     In a postapocalyptic world, rag-doll robots hi...  \n",
       "3     A brilliant group of students become card-coun...  \n",
       "4     A genetics professor experiments with a treatm...  \n",
       "...                                                 ...  \n",
       "4804  Looking to survive in a world taken over by zo...  \n",
       "4805  A drug dealer starts having doubts about his t...  \n",
       "4806  Dragged from civilian life, a former superhero...  \n",
       "4807  When Lebanon's Civil War deprives Zozo of his ...  \n",
       "4808  A scrappy but poor boy worms his way into a ty...  \n",
       "\n",
       "[4809 rows x 12 columns]"
      ]
     },
     "execution_count": 16,
     "metadata": {},
     "output_type": "execute_result"
    }
   ],
   "source": [
    "df.dropna(inplace=True)\n",
    "df.reset_index()"
   ]
  },
  {
   "cell_type": "code",
   "execution_count": 17,
   "id": "b525b6ab",
   "metadata": {},
   "outputs": [
    {
     "data": {
      "text/plain": [
       "Show_Id         False\n",
       "Category        False\n",
       "Title           False\n",
       "Director        False\n",
       "Cast            False\n",
       "Country         False\n",
       "Release_Date    False\n",
       "Rating          False\n",
       "Duration        False\n",
       "Type            False\n",
       "Description     False\n",
       "dtype: bool"
      ]
     },
     "execution_count": 17,
     "metadata": {},
     "output_type": "execute_result"
    }
   ],
   "source": [
    "df.isnull().any()"
   ]
  },
  {
   "cell_type": "markdown",
   "id": "f86c60ad",
   "metadata": {},
   "source": [
    "# Converting columns to appropriate data types"
   ]
  },
  {
   "cell_type": "code",
   "execution_count": 18,
   "id": "c047f8e6",
   "metadata": {},
   "outputs": [],
   "source": [
    "df['Release_Date']=pd.to_datetime(df['Release_Date'])"
   ]
  },
  {
   "cell_type": "code",
   "execution_count": 19,
   "id": "800e64f2",
   "metadata": {},
   "outputs": [
    {
     "data": {
      "text/plain": [
       "Show_Id                 object\n",
       "Category                object\n",
       "Title                   object\n",
       "Director                object\n",
       "Cast                    object\n",
       "Country                 object\n",
       "Release_Date    datetime64[ns]\n",
       "Rating                  object\n",
       "Duration                object\n",
       "Type                    object\n",
       "Description             object\n",
       "dtype: object"
      ]
     },
     "execution_count": 19,
     "metadata": {},
     "output_type": "execute_result"
    }
   ],
   "source": [
    "df.dtypes"
   ]
  },
  {
   "cell_type": "markdown",
   "id": "c2114584",
   "metadata": {},
   "source": [
    "# Insight 1: Finding the year with the highest number of releases"
   ]
  },
  {
   "cell_type": "code",
   "execution_count": 20,
   "id": "197ef5d5",
   "metadata": {},
   "outputs": [
    {
     "data": {
      "text/plain": [
       "2019    1337\n",
       "2020    1229\n",
       "2018    1115\n",
       "2017     752\n",
       "2016     207\n",
       "2021      78\n",
       "2015      50\n",
       "2014      14\n",
       "2011      13\n",
       "2013       7\n",
       "2012       3\n",
       "2009       2\n",
       "2010       1\n",
       "2008       1\n",
       "Name: Release_Date, dtype: int64"
      ]
     },
     "execution_count": 20,
     "metadata": {},
     "output_type": "execute_result"
    }
   ],
   "source": [
    "df['Release_Date'].dt.year.value_counts()"
   ]
  },
  {
   "cell_type": "code",
   "execution_count": 21,
   "id": "417cc3da",
   "metadata": {},
   "outputs": [
    {
     "data": {
      "text/plain": [
       "Text(0.5, 1.0, 'Releases per year')"
      ]
     },
     "execution_count": 21,
     "metadata": {},
     "output_type": "execute_result"
    },
    {
     "data": {
      "image/png": "[encoded data removed]",
      "text/plain": [
       "<Figure size 432x288 with 1 Axes>"
      ]
     },
     "metadata": {
      "needs_background": "light"
     },
     "output_type": "display_data"
    }
   ],
   "source": [
    "df['Release_Date'].dt.year.value_counts().plot(kind='bar')\n",
    "plt.xlabel(\"Year\")\n",
    "plt.ylabel(\"Number of releases\")\n",
    "plt.title(\"Releases per year\")"
   ]
  },
  {
   "cell_type": "markdown",
   "id": "f347aacd",
   "metadata": {},
   "source": [
    "From the above graph and data, we see 2019 has the highest number of releases, whereas, 2008 the least number of releases."
   ]
  },
  {
   "cell_type": "markdown",
   "id": "b4c8536b",
   "metadata": {},
   "source": [
    "# Insight 2: How many movies and TV shows are there in the dataset?"
   ]
  },
  {
   "cell_type": "code",
   "execution_count": 22,
   "id": "a1da1672",
   "metadata": {},
   "outputs": [
    {
     "data": {
      "text/plain": [
       "Category\n",
       "Movie      4673\n",
       "TV Show     136\n",
       "Name: Category, dtype: int64"
      ]
     },
     "execution_count": 22,
     "metadata": {},
     "output_type": "execute_result"
    }
   ],
   "source": [
    "df.groupby(['Category'])['Category'].count()"
   ]
  },
  {
   "cell_type": "code",
   "execution_count": 23,
   "id": "2500c352",
   "metadata": {},
   "outputs": [
    {
     "data": {
      "text/plain": [
       "<AxesSubplot:xlabel='Category', ylabel='count'>"
      ]
     },
     "execution_count": 23,
     "metadata": {},
     "output_type": "execute_result"
    },
    {
     "data": {
      "image/png": "[encoded data removed]",
      "text/plain": [
       "<Figure size 432x288 with 1 Axes>"
      ]
     },
     "metadata": {
      "needs_background": "light"
     },
     "output_type": "display_data"
    }
   ],
   "source": [
    "sns.countplot(data=df,x=df['Category'])"
   ]
  },
  {
   "cell_type": "markdown",
   "id": "75e5ddd0",
   "metadata": {},
   "source": [
    "We see an overwhelming number of movies in the dataset as compared to TV shows"
   ]
  },
  {
   "cell_type": "markdown",
   "id": "501284c4",
   "metadata": {},
   "source": [
    "# Insight 3: Which country has the highest number of movies and TV shows?"
   ]
  },
  {
   "cell_type": "code",
   "execution_count": 24,
   "id": "39fcb2c3",
   "metadata": {},
   "outputs": [
    {
     "data": {
      "text/plain": [
       "United States                                                   1654\n",
       "India                                                            832\n",
       "United Kingdom                                                   174\n",
       "Canada                                                           104\n",
       "Egypt                                                             87\n",
       "                                                                ... \n",
       "United Kingdom, Canada, United States, Cayman Islands              1\n",
       "Netherlands, Belgium                                               1\n",
       "United Kingdom, Denmark, Canada, Croatia                           1\n",
       "Thailand, United States                                            1\n",
       "Sweden, Czech Republic, United Kingdom, Denmark, Netherlands       1\n",
       "Name: Country, Length: 544, dtype: int64"
      ]
     },
     "execution_count": 24,
     "metadata": {},
     "output_type": "execute_result"
    }
   ],
   "source": [
    "count_country=df['Country'].value_counts()\n",
    "count_country"
   ]
  },
  {
   "cell_type": "markdown",
   "id": "20867e97",
   "metadata": {},
   "source": [
    "United States had the highest number of releases"
   ]
  },
  {
   "cell_type": "markdown",
   "id": "1c91993b",
   "metadata": {},
   "source": [
    "# Insight 4: Show the distribution of censor rating among movies & TV shows?"
   ]
  },
  {
   "cell_type": "code",
   "execution_count": 36,
   "id": "2c190650",
   "metadata": {},
   "outputs": [
    {
     "data": {
      "text/plain": [
       "TV-MA       1666\n",
       "TV-14       1133\n",
       "R            654\n",
       "TV-PG        413\n",
       "PG-13        375\n",
       "PG           238\n",
       "TV-G          80\n",
       "TV-Y          71\n",
       "TV-Y7         69\n",
       "NR            62\n",
       "G             38\n",
       "UR             5\n",
       "TV-Y7-FV       3\n",
       "NC-17          2\n",
       "Name: Rating, dtype: int64"
      ]
     },
     "execution_count": 36,
     "metadata": {},
     "output_type": "execute_result"
    }
   ],
   "source": [
    "df['Rating'].value_counts()"
   ]
  },
  {
   "cell_type": "code",
   "execution_count": 38,
   "id": "e00e6bec",
   "metadata": {},
   "outputs": [
    {
     "data": {
      "text/plain": [
       "Text(0, 0.5, 'Count')"
      ]
     },
     "execution_count": 38,
     "metadata": {},
     "output_type": "execute_result"
    },
    {
     "data": {
      "image/png": "[encoded data removed]",
      "text/plain": [
       "<Figure size 432x288 with 1 Axes>"
      ]
     },
     "metadata": {
      "needs_background": "light"
     },
     "output_type": "display_data"
    }
   ],
   "source": [
    "df['Rating'].value_counts().plot(kind='bar')\n",
    "plt.xlabel(\"Censor Rating\")\n",
    "plt.ylabel(\"Count\")"
   ]
  },
  {
   "cell_type": "markdown",
   "id": "04fa67a1",
   "metadata": {},
   "source": [
    "# Insight 5: Which country has the highest number of TV shows?"
   ]
  },
  {
   "cell_type": "code",
   "execution_count": 31,
   "id": "3dcd94f9",
   "metadata": {},
   "outputs": [],
   "source": [
    "df_TvShows=df.loc[df['Category']==\"TV Show\"]"
   ]
  },
  {
   "cell_type": "code",
   "execution_count": 35,
   "id": "02c1dde1",
   "metadata": {},
   "outputs": [
    {
     "data": {
      "text/plain": [
       "Country\n",
       "United States                                                    27\n",
       "United Kingdom                                                   19\n",
       "South Korea                                                      10\n",
       "Japan                                                            10\n",
       "Spain                                                             7\n",
       "Taiwan                                                            6\n",
       "Turkey                                                            5\n",
       "India                                                             5\n",
       "Brazil                                                            4\n",
       "France                                                            3\n",
       "Canada                                                            3\n",
       "Thailand                                                          3\n",
       "Nigeria                                                           3\n",
       "Denmark                                                           2\n",
       "Italy                                                             2\n",
       "China                                                             2\n",
       "United States, Canada                                             2\n",
       "United Kingdom, United States, Spain, Germany, Greece, Canada     1\n",
       "United Kingdom, Ireland, United States                            1\n",
       "Saudi Arabia                                                      1\n",
       "United Kingdom, Germany, United States, France                    1\n",
       "Taiwan, Malaysia                                                  1\n",
       "United States, Ireland                                            1\n",
       "Argentina                                                         1\n",
       "Mexico, United States                                             1\n",
       "Russia                                                            1\n",
       "Poland                                                            1\n",
       "Pakistan                                                          1\n",
       "Australia                                                         1\n",
       "Mexico, Spain                                                     1\n",
       "Mexico                                                            1\n",
       "Italy, United States                                              1\n",
       "Italy, Canada, France                                             1\n",
       "India, United States                                              1\n",
       "France, South Korea, Japan                                        1\n",
       "Colombia, Mexico, United States                                   1\n",
       "Colombia                                                          1\n",
       "Canada, United Kingdom, United States                             1\n",
       "Belgium                                                           1\n",
       "United States, Israel, Italy, South Africa                        1\n",
       "Name: Country, dtype: int64"
      ]
     },
     "execution_count": 35,
     "metadata": {},
     "output_type": "execute_result"
    }
   ],
   "source": [
    "df_TvShows.groupby(['Country'])['Country'].count().sort_values(ascending=False)"
   ]
  },
  {
   "cell_type": "markdown",
   "id": "889d9883",
   "metadata": {},
   "source": [
    "From the data given, United States eems to have the highest number of TV shows followed by United Kingdom"
   ]
  },
  {
   "cell_type": "markdown",
   "id": "82d84960",
   "metadata": {},
   "source": [
    "# Insight 6: Among the movies and TV shows released in US, what was the majority censor rating received?"
   ]
  },
  {
   "cell_type": "code",
   "execution_count": 25,
   "id": "a8dead2f",
   "metadata": {},
   "outputs": [
    {
     "data": {
      "text/plain": [
       "TV-MA       1666\n",
       "TV-14       1133\n",
       "R            654\n",
       "TV-PG        413\n",
       "PG-13        375\n",
       "PG           238\n",
       "TV-G          80\n",
       "TV-Y          71\n",
       "TV-Y7         69\n",
       "NR            62\n",
       "G             38\n",
       "UR             5\n",
       "TV-Y7-FV       3\n",
       "NC-17          2\n",
       "Name: Rating, dtype: int64"
      ]
     },
     "execution_count": 25,
     "metadata": {},
     "output_type": "execute_result"
    }
   ],
   "source": [
    "df['Rating'].value_counts()"
   ]
  },
  {
   "cell_type": "code",
   "execution_count": 26,
   "id": "9e33aff1",
   "metadata": {},
   "outputs": [],
   "source": [
    "df_country=df[df['Country']=='United States']"
   ]
  },
  {
   "cell_type": "code",
   "execution_count": 27,
   "id": "b9182b74",
   "metadata": {},
   "outputs": [
    {
     "data": {
      "text/html": [
       "<div>\n",
       "<style scoped>\n",
       "    .dataframe tbody tr th:only-of-type {\n",
       "        vertical-align: middle;\n",
       "    }\n",
       "\n",
       "    .dataframe tbody tr th {\n",
       "        vertical-align: top;\n",
       "    }\n",
       "\n",
       "    .dataframe thead th {\n",
       "        text-align: right;\n",
       "    }\n",
       "</style>\n",
       "<table border=\"1\" class=\"dataframe\">\n",
       "  <thead>\n",
       "    <tr style=\"text-align: right;\">\n",
       "      <th></th>\n",
       "      <th>Show_Id</th>\n",
       "      <th>Category</th>\n",
       "      <th>Title</th>\n",
       "      <th>Director</th>\n",
       "      <th>Cast</th>\n",
       "      <th>Country</th>\n",
       "      <th>Release_Date</th>\n",
       "      <th>Rating</th>\n",
       "      <th>Duration</th>\n",
       "      <th>Type</th>\n",
       "      <th>Description</th>\n",
       "    </tr>\n",
       "  </thead>\n",
       "  <tbody>\n",
       "    <tr>\n",
       "      <th>3</th>\n",
       "      <td>s4</td>\n",
       "      <td>Movie</td>\n",
       "      <td>9</td>\n",
       "      <td>Shane Acker</td>\n",
       "      <td>Elijah Wood, John C. Reilly, Jennifer Connelly...</td>\n",
       "      <td>United States</td>\n",
       "      <td>2017-11-16</td>\n",
       "      <td>PG-13</td>\n",
       "      <td>80 min</td>\n",
       "      <td>Action &amp; Adventure, Independent Movies, Sci-Fi...</td>\n",
       "      <td>In a postapocalyptic world, rag-doll robots hi...</td>\n",
       "    </tr>\n",
       "    <tr>\n",
       "      <th>4</th>\n",
       "      <td>s5</td>\n",
       "      <td>Movie</td>\n",
       "      <td>21</td>\n",
       "      <td>Robert Luketic</td>\n",
       "      <td>Jim Sturgess, Kevin Spacey, Kate Bosworth, Aar...</td>\n",
       "      <td>United States</td>\n",
       "      <td>2020-01-01</td>\n",
       "      <td>PG-13</td>\n",
       "      <td>123 min</td>\n",
       "      <td>Dramas</td>\n",
       "      <td>A brilliant group of students become card-coun...</td>\n",
       "    </tr>\n",
       "    <tr>\n",
       "      <th>7</th>\n",
       "      <td>s8</td>\n",
       "      <td>Movie</td>\n",
       "      <td>187</td>\n",
       "      <td>Kevin Reynolds</td>\n",
       "      <td>Samuel L. Jackson, John Heard, Kelly Rowan, Cl...</td>\n",
       "      <td>United States</td>\n",
       "      <td>2019-11-01</td>\n",
       "      <td>R</td>\n",
       "      <td>119 min</td>\n",
       "      <td>Dramas</td>\n",
       "      <td>After one of his high school students attacks ...</td>\n",
       "    </tr>\n",
       "    <tr>\n",
       "      <th>10</th>\n",
       "      <td>s11</td>\n",
       "      <td>Movie</td>\n",
       "      <td>1922</td>\n",
       "      <td>Zak Hilditch</td>\n",
       "      <td>Thomas Jane, Molly Parker, Dylan Schmid, Kaitl...</td>\n",
       "      <td>United States</td>\n",
       "      <td>2017-10-20</td>\n",
       "      <td>TV-MA</td>\n",
       "      <td>103 min</td>\n",
       "      <td>Dramas, Thrillers</td>\n",
       "      <td>A farmer pens a confession admitting to his wi...</td>\n",
       "    </tr>\n",
       "    <tr>\n",
       "      <th>14</th>\n",
       "      <td>s15</td>\n",
       "      <td>Movie</td>\n",
       "      <td>3022</td>\n",
       "      <td>John Suits</td>\n",
       "      <td>Omar Epps, Kate Walsh, Miranda Cosgrove, Angus...</td>\n",
       "      <td>United States</td>\n",
       "      <td>2020-03-19</td>\n",
       "      <td>R</td>\n",
       "      <td>91 min</td>\n",
       "      <td>Independent Movies, Sci-Fi &amp; Fantasy, Thrillers</td>\n",
       "      <td>Stranded when the Earth is suddenly destroyed ...</td>\n",
       "    </tr>\n",
       "  </tbody>\n",
       "</table>\n",
       "</div>"
      ],
      "text/plain": [
       "   Show_Id Category Title        Director  \\\n",
       "3       s4    Movie     9     Shane Acker   \n",
       "4       s5    Movie    21  Robert Luketic   \n",
       "7       s8    Movie   187  Kevin Reynolds   \n",
       "10     s11    Movie  1922    Zak Hilditch   \n",
       "14     s15    Movie  3022      John Suits   \n",
       "\n",
       "                                                 Cast        Country  \\\n",
       "3   Elijah Wood, John C. Reilly, Jennifer Connelly...  United States   \n",
       "4   Jim Sturgess, Kevin Spacey, Kate Bosworth, Aar...  United States   \n",
       "7   Samuel L. Jackson, John Heard, Kelly Rowan, Cl...  United States   \n",
       "10  Thomas Jane, Molly Parker, Dylan Schmid, Kaitl...  United States   \n",
       "14  Omar Epps, Kate Walsh, Miranda Cosgrove, Angus...  United States   \n",
       "\n",
       "   Release_Date Rating Duration  \\\n",
       "3    2017-11-16  PG-13   80 min   \n",
       "4    2020-01-01  PG-13  123 min   \n",
       "7    2019-11-01      R  119 min   \n",
       "10   2017-10-20  TV-MA  103 min   \n",
       "14   2020-03-19      R   91 min   \n",
       "\n",
       "                                                 Type  \\\n",
       "3   Action & Adventure, Independent Movies, Sci-Fi...   \n",
       "4                                              Dramas   \n",
       "7                                              Dramas   \n",
       "10                                  Dramas, Thrillers   \n",
       "14    Independent Movies, Sci-Fi & Fantasy, Thrillers   \n",
       "\n",
       "                                          Description  \n",
       "3   In a postapocalyptic world, rag-doll robots hi...  \n",
       "4   A brilliant group of students become card-coun...  \n",
       "7   After one of his high school students attacks ...  \n",
       "10  A farmer pens a confession admitting to his wi...  \n",
       "14  Stranded when the Earth is suddenly destroyed ...  "
      ]
     },
     "execution_count": 27,
     "metadata": {},
     "output_type": "execute_result"
    }
   ],
   "source": [
    "df_country.head()"
   ]
  },
  {
   "cell_type": "code",
   "execution_count": 28,
   "id": "f431240b",
   "metadata": {},
   "outputs": [
    {
     "data": {
      "text/plain": [
       "Rating\n",
       "TV-MA       515\n",
       "R           358\n",
       "PG-13       221\n",
       "TV-14       161\n",
       "PG          140\n",
       "TV-PG       108\n",
       "TV-Y         33\n",
       "TV-G         32\n",
       "TV-Y7        32\n",
       "G            28\n",
       "NR           24\n",
       "TV-Y7-FV      1\n",
       "UR            1\n",
       "Name: Rating, dtype: int64"
      ]
     },
     "execution_count": 28,
     "metadata": {},
     "output_type": "execute_result"
    }
   ],
   "source": [
    "df_country.groupby(['Rating'])['Rating'].count().sort_values(ascending=False)"
   ]
  },
  {
   "cell_type": "markdown",
   "id": "fa9ac2c3",
   "metadata": {},
   "source": [
    "Among the movies originating in US, majority of them have a 'TV-MA' censor rating"
   ]
  },
  {
   "cell_type": "markdown",
   "id": "836e2886",
   "metadata": {},
   "source": [
    "# Insight 7: Which Director/s had the most number of movies/TV shows?"
   ]
  },
  {
   "cell_type": "code",
   "execution_count": 45,
   "id": "a30e1c38",
   "metadata": {},
   "outputs": [
    {
     "data": {
      "text/plain": [
       "Raúl Campos, Jan Suter         18\n",
       "Marcus Raboy                   15\n",
       "Jay Karas                      14\n",
       "Cathy Garcia-Molina            13\n",
       "Jay Chapman                    12\n",
       "                               ..\n",
       "Toka McBaror, Tunde Apalowo     1\n",
       "Måns Mårlind, Björn Stein       1\n",
       "Jamie M. Dagg                   1\n",
       "Bruce McCulloch                 1\n",
       "Mozez Singh                     1\n",
       "Name: Director, Length: 3614, dtype: int64"
      ]
     },
     "execution_count": 45,
     "metadata": {},
     "output_type": "execute_result"
    }
   ],
   "source": [
    "df['Director'].value_counts().sort_values(ascending=False)"
   ]
  },
  {
   "cell_type": "markdown",
   "id": "40c89031",
   "metadata": {},
   "source": [
    "The combination of Raúl Campos, Jan Suter have directed the most number of movies/TV shows together"
   ]
  },
  {
   "cell_type": "code",
   "execution_count": 47,
   "id": "26c820fd",
   "metadata": {},
   "outputs": [
    {
     "data": {
      "text/plain": [
       "Raúl Campos, Jan Suter        18\n",
       "Jay Karas                     14\n",
       "Marcus Raboy                  14\n",
       "Cathy Garcia-Molina           13\n",
       "Jay Chapman                   12\n",
       "                              ..\n",
       "Chi Keung Fung                 1\n",
       "Grant Heslov                   1\n",
       "Rocky Soraya, Anggy Umbara     1\n",
       "Gordon Parks                   1\n",
       "Mozez Singh                    1\n",
       "Name: Director, Length: 3507, dtype: int64"
      ]
     },
     "execution_count": 47,
     "metadata": {},
     "output_type": "execute_result"
    }
   ],
   "source": [
    "df_movie=df[df['Category']==\"Movie\"]\n",
    "df_movie['Director'].value_counts().sort_values(ascending=False)"
   ]
  },
  {
   "cell_type": "markdown",
   "id": "726d6f29",
   "metadata": {},
   "source": [
    "The combination of Raúl Campos, Jan Suter have directed the most number of movies together"
   ]
  },
  {
   "cell_type": "code",
   "execution_count": 48,
   "id": "38e3a7c1",
   "metadata": {},
   "outputs": [
    {
     "data": {
      "text/plain": [
       "Alastair Fothergill    3\n",
       "Shin Won-ho            2\n",
       "Rob Seidenglanz        2\n",
       "Iginio Straffi         2\n",
       "Stan Lathan            2\n",
       "                      ..\n",
       "Mick Grogan            1\n",
       "Inma Torrente          1\n",
       "Carlos Sedes           1\n",
       "Noam Murro             1\n",
       "Lee Toland Krieger     1\n",
       "Name: Director, Length: 130, dtype: int64"
      ]
     },
     "execution_count": 48,
     "metadata": {},
     "output_type": "execute_result"
    }
   ],
   "source": [
    "df_TV=df[df['Category']==\"TV Show\"]\n",
    "df_TV['Director'].value_counts().sort_values(ascending=False)"
   ]
  },
  {
   "cell_type": "markdown",
   "id": "51781c0b",
   "metadata": {},
   "source": [
    "Alastair Fothergill has directed the most number of TV Shows"
   ]
  },
  {
   "cell_type": "markdown",
   "id": "77b31f18",
   "metadata": {},
   "source": [
    "# Insight 8: What is the genre of the movies directed by 'Raúl Campos, Jan Suter'?"
   ]
  },
  {
   "cell_type": "code",
   "execution_count": 60,
   "id": "6718909a",
   "metadata": {},
   "outputs": [
    {
     "data": {
      "text/plain": [
       "370     Stand-Up Comedy\n",
       "568     Stand-Up Comedy\n",
       "1220    Stand-Up Comedy\n",
       "1443    Stand-Up Comedy\n",
       "1602    Stand-Up Comedy\n",
       "2148    Stand-Up Comedy\n",
       "3123    Stand-Up Comedy\n",
       "3805    Stand-Up Comedy\n",
       "3885    Stand-Up Comedy\n",
       "4005    Stand-Up Comedy\n",
       "4415    Stand-Up Comedy\n",
       "5196    Stand-Up Comedy\n",
       "5197    Stand-Up Comedy\n",
       "5198    Stand-Up Comedy\n",
       "5453    Stand-Up Comedy\n",
       "5691    Stand-Up Comedy\n",
       "5692    Stand-Up Comedy\n",
       "7128    Stand-Up Comedy\n",
       "Name: Type, dtype: object"
      ]
     },
     "execution_count": 60,
     "metadata": {},
     "output_type": "execute_result"
    }
   ],
   "source": [
    "df_movie[df_movie['Director']=='Raúl Campos, Jan Suter']['Type']"
   ]
  },
  {
   "cell_type": "markdown",
   "id": "61463e6d",
   "metadata": {},
   "source": [
    "All movies directed by this director duo seem to be 'Stand-Up' comdeies"
   ]
  },
  {
   "cell_type": "markdown",
   "id": "02520e5b",
   "metadata": {},
   "source": [
    "# Insight 9: What is the genre of the movies directed by 'Alastair Fothergill'?"
   ]
  },
  {
   "cell_type": "code",
   "execution_count": 63,
   "id": "506b0be0",
   "metadata": {},
   "outputs": [
    {
     "data": {
      "text/plain": [
       "2299    British TV Shows, Docuseries, International TV...\n",
       "4877    British TV Shows, Docuseries, International TV...\n",
       "6149    British TV Shows, Docuseries, International TV...\n",
       "Name: Type, dtype: object"
      ]
     },
     "execution_count": 63,
     "metadata": {},
     "output_type": "execute_result"
    }
   ],
   "source": [
    "df_TV[df_TV['Director']=='Alastair Fothergill']['Type']"
   ]
  },
  {
   "cell_type": "markdown",
   "id": "7b4a881f",
   "metadata": {},
   "source": [
    "Alastair Fothergill seems ti have a penchant for creating docuseries"
   ]
  },
  {
   "cell_type": "markdown",
   "id": "e467c7ee",
   "metadata": {},
   "source": [
    "# Insight 10: How many movies are listed as 'Thrillers' and 'Comedies'?"
   ]
  },
  {
   "cell_type": "code",
   "execution_count": 55,
   "id": "df8bcbb5",
   "metadata": {},
   "outputs": [
    {
     "data": {
      "text/plain": [
       "481"
      ]
     },
     "execution_count": 55,
     "metadata": {},
     "output_type": "execute_result"
    }
   ],
   "source": [
    "df['Type'].map(lambda x:'Thrillers' in x).sum()"
   ]
  },
  {
   "cell_type": "code",
   "execution_count": 56,
   "id": "8ad30b30",
   "metadata": {},
   "outputs": [
    {
     "data": {
      "text/plain": [
       "1431"
      ]
     },
     "execution_count": 56,
     "metadata": {},
     "output_type": "execute_result"
    }
   ],
   "source": [
    "df['Type'].map(lambda x:'Comedies' in x).sum()"
   ]
  },
  {
   "cell_type": "markdown",
   "id": "5f9d48a9",
   "metadata": {},
   "source": [
    "There are more comedies than thrillers in the data"
   ]
  },
  {
   "cell_type": "code",
   "execution_count": null,
   "id": "a05fb9c0",
   "metadata": {},
   "outputs": [],
   "source": []
  }
 ],
 "metadata": {
  "kernelspec": {
   "display_name": "Python 3 (ipykernel)",
   "language": "python",
   "name": "python3"
  },
  "language_info": {
   "codemirror_mode": {
    "name": "ipython",
    "version": 3
   },
   "file_extension": ".py",
   "mimetype": "text/x-python",
   "name": "python",
   "nbconvert_exporter": "python",
   "pygments_lexer": "ipython3",
   "version": "3.10.1"
  }
 },
 "nbformat": 4,
 "nbformat_minor": 5
}
